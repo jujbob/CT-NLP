{
  "nbformat": 4,
  "nbformat_minor": 0,
  "metadata": {
    "colab": {
      "provenance": []
    },
    "kernelspec": {
      "name": "python3",
      "display_name": "Python 3"
    },
    "language_info": {
      "name": "python"
    }
  },
  "cells": [
    {
      "cell_type": "markdown",
      "source": [
        "# Language Model on RNN\n",
        " - Training Input: Corpora\n",
        " - Training output: loss"
      ],
      "metadata": {
        "id": "ONYmzHsPkNXq"
      }
    },
    {
      "cell_type": "code",
      "execution_count": 1,
      "metadata": {
        "id": "XYUGdsiokJ7F"
      },
      "outputs": [],
      "source": [
        "import torch\n",
        "import torch.nn as nn\n",
        "import torch.nn.functional as F\n",
        "#import torch.optim as optim"
      ]
    },
    {
      "cell_type": "code",
      "source": [
        "training_sentence = \"\"\"\n",
        "This is the gravest crisis for Western security since the end of World War Two, and a lasting one. As one expert puts it, Trumpism will outlast his presidency. But which nations are equipped to step to the fore as the US stands back? At 09.00 one morning in February 1947, the UK ambassador in Washington, Lord Inverchapel, walked into the State Department to hand the US Secretary of State, George Marshall, two diplomatic messages printed on blue paper to emphasise their importance: one on Greece, the other on Turkey. Exhausted, broke and heavily in debt to the United States, Britain told the US that it could no longer continue its support for the Greek government forces that were fighting an armed Communist insurgency. Britain had already announced plans to pull out of Palestine and India and to wind down its presence in Egypt.\n",
        "The United States saw immediately that there was now a real danger that Greece would fall to the Communists and, by extension, to Soviet control. And if Greece went, the United States feared that Turkey could be next, giving Moscow control of the Eastern Mediterranean including, potentially, the Suez Canal, a vital global trade route.\n",
        "Almost overnight, the United States stepped into the vacuum left by the departing British.\n",
        "\"\"\""
      ],
      "metadata": {
        "id": "er7s0P9jkZkb"
      },
      "execution_count": 2,
      "outputs": []
    },
    {
      "cell_type": "code",
      "source": [
        "training_sentence = training_sentence.split()"
      ],
      "metadata": {
        "id": "7jkJu6H7kdNw"
      },
      "execution_count": 3,
      "outputs": []
    },
    {
      "cell_type": "code",
      "source": [
        "training_sentence"
      ],
      "metadata": {
        "collapsed": true,
        "colab": {
          "base_uri": "https://localhost:8080/"
        },
        "id": "L0bpjkEgkhRj",
        "outputId": "dd6b1bcc-1fed-4e43-d4f4-c04fa4d71b7c"
      },
      "execution_count": 4,
      "outputs": [
        {
          "output_type": "execute_result",
          "data": {
            "text/plain": [
              "['This',\n",
              " 'is',\n",
              " 'the',\n",
              " 'gravest',\n",
              " 'crisis',\n",
              " 'for',\n",
              " 'Western',\n",
              " 'security',\n",
              " 'since',\n",
              " 'the',\n",
              " 'end',\n",
              " 'of',\n",
              " 'World',\n",
              " 'War',\n",
              " 'Two,',\n",
              " 'and',\n",
              " 'a',\n",
              " 'lasting',\n",
              " 'one.',\n",
              " 'As',\n",
              " 'one',\n",
              " 'expert',\n",
              " 'puts',\n",
              " 'it,',\n",
              " 'Trumpism',\n",
              " 'will',\n",
              " 'outlast',\n",
              " 'his',\n",
              " 'presidency.',\n",
              " 'But',\n",
              " 'which',\n",
              " 'nations',\n",
              " 'are',\n",
              " 'equipped',\n",
              " 'to',\n",
              " 'step',\n",
              " 'to',\n",
              " 'the',\n",
              " 'fore',\n",
              " 'as',\n",
              " 'the',\n",
              " 'US',\n",
              " 'stands',\n",
              " 'back?',\n",
              " 'At',\n",
              " '09.00',\n",
              " 'one',\n",
              " 'morning',\n",
              " 'in',\n",
              " 'February',\n",
              " '1947,',\n",
              " 'the',\n",
              " 'UK',\n",
              " 'ambassador',\n",
              " 'in',\n",
              " 'Washington,',\n",
              " 'Lord',\n",
              " 'Inverchapel,',\n",
              " 'walked',\n",
              " 'into',\n",
              " 'the',\n",
              " 'State',\n",
              " 'Department',\n",
              " 'to',\n",
              " 'hand',\n",
              " 'the',\n",
              " 'US',\n",
              " 'Secretary',\n",
              " 'of',\n",
              " 'State,',\n",
              " 'George',\n",
              " 'Marshall,',\n",
              " 'two',\n",
              " 'diplomatic',\n",
              " 'messages',\n",
              " 'printed',\n",
              " 'on',\n",
              " 'blue',\n",
              " 'paper',\n",
              " 'to',\n",
              " 'emphasise',\n",
              " 'their',\n",
              " 'importance:',\n",
              " 'one',\n",
              " 'on',\n",
              " 'Greece,',\n",
              " 'the',\n",
              " 'other',\n",
              " 'on',\n",
              " 'Turkey.',\n",
              " 'Exhausted,',\n",
              " 'broke',\n",
              " 'and',\n",
              " 'heavily',\n",
              " 'in',\n",
              " 'debt',\n",
              " 'to',\n",
              " 'the',\n",
              " 'United',\n",
              " 'States,',\n",
              " 'Britain',\n",
              " 'told',\n",
              " 'the',\n",
              " 'US',\n",
              " 'that',\n",
              " 'it',\n",
              " 'could',\n",
              " 'no',\n",
              " 'longer',\n",
              " 'continue',\n",
              " 'its',\n",
              " 'support',\n",
              " 'for',\n",
              " 'the',\n",
              " 'Greek',\n",
              " 'government',\n",
              " 'forces',\n",
              " 'that',\n",
              " 'were',\n",
              " 'fighting',\n",
              " 'an',\n",
              " 'armed',\n",
              " 'Communist',\n",
              " 'insurgency.',\n",
              " 'Britain',\n",
              " 'had',\n",
              " 'already',\n",
              " 'announced',\n",
              " 'plans',\n",
              " 'to',\n",
              " 'pull',\n",
              " 'out',\n",
              " 'of',\n",
              " 'Palestine',\n",
              " 'and',\n",
              " 'India',\n",
              " 'and',\n",
              " 'to',\n",
              " 'wind',\n",
              " 'down',\n",
              " 'its',\n",
              " 'presence',\n",
              " 'in',\n",
              " 'Egypt.',\n",
              " 'The',\n",
              " 'United',\n",
              " 'States',\n",
              " 'saw',\n",
              " 'immediately',\n",
              " 'that',\n",
              " 'there',\n",
              " 'was',\n",
              " 'now',\n",
              " 'a',\n",
              " 'real',\n",
              " 'danger',\n",
              " 'that',\n",
              " 'Greece',\n",
              " 'would',\n",
              " 'fall',\n",
              " 'to',\n",
              " 'the',\n",
              " 'Communists',\n",
              " 'and,',\n",
              " 'by',\n",
              " 'extension,',\n",
              " 'to',\n",
              " 'Soviet',\n",
              " 'control.',\n",
              " 'And',\n",
              " 'if',\n",
              " 'Greece',\n",
              " 'went,',\n",
              " 'the',\n",
              " 'United',\n",
              " 'States',\n",
              " 'feared',\n",
              " 'that',\n",
              " 'Turkey',\n",
              " 'could',\n",
              " 'be',\n",
              " 'next,',\n",
              " 'giving',\n",
              " 'Moscow',\n",
              " 'control',\n",
              " 'of',\n",
              " 'the',\n",
              " 'Eastern',\n",
              " 'Mediterranean',\n",
              " 'including,',\n",
              " 'potentially,',\n",
              " 'the',\n",
              " 'Suez',\n",
              " 'Canal,',\n",
              " 'a',\n",
              " 'vital',\n",
              " 'global',\n",
              " 'trade',\n",
              " 'route.',\n",
              " 'Almost',\n",
              " 'overnight,',\n",
              " 'the',\n",
              " 'United',\n",
              " 'States',\n",
              " 'stepped',\n",
              " 'into',\n",
              " 'the',\n",
              " 'vacuum',\n",
              " 'left',\n",
              " 'by',\n",
              " 'the',\n",
              " 'departing',\n",
              " 'British.']"
            ]
          },
          "metadata": {},
          "execution_count": 4
        }
      ]
    },
    {
      "cell_type": "code",
      "source": [
        "ex_sentence = \"the gravest crisis\""
      ],
      "metadata": {
        "id": "USOlYDGyksYo"
      },
      "execution_count": 12,
      "outputs": []
    },
    {
      "cell_type": "code",
      "source": [
        "vocab = set(training_sentence)"
      ],
      "metadata": {
        "id": "ZbgSwVMJlCec"
      },
      "execution_count": 7,
      "outputs": []
    },
    {
      "cell_type": "code",
      "source": [
        "num_vocab = len(vocab)"
      ],
      "metadata": {
        "id": "sztajO7jlKd5"
      },
      "execution_count": 9,
      "outputs": []
    },
    {
      "cell_type": "code",
      "source": [
        "EMBEDDING_DIM = 3\n",
        "word_emb = nn.Embedding(num_vocab, EMBEDDING_DIM)"
      ],
      "metadata": {
        "id": "KUWd7NBEkiRI"
      },
      "execution_count": 20,
      "outputs": []
    },
    {
      "cell_type": "code",
      "source": [
        "vocab"
      ],
      "metadata": {
        "colab": {
          "base_uri": "https://localhost:8080/"
        },
        "collapsed": true,
        "id": "78SmVqJIlPcZ",
        "outputId": "77859319-20ad-4f3a-f4f3-545bc43c0c81"
      },
      "execution_count": 17,
      "outputs": [
        {
          "output_type": "execute_result",
          "data": {
            "text/plain": [
              "{'09.00',\n",
              " '1947,',\n",
              " 'Almost',\n",
              " 'And',\n",
              " 'As',\n",
              " 'At',\n",
              " 'Britain',\n",
              " 'British.',\n",
              " 'But',\n",
              " 'Canal,',\n",
              " 'Communist',\n",
              " 'Communists',\n",
              " 'Department',\n",
              " 'Eastern',\n",
              " 'Egypt.',\n",
              " 'Exhausted,',\n",
              " 'February',\n",
              " 'George',\n",
              " 'Greece',\n",
              " 'Greece,',\n",
              " 'Greek',\n",
              " 'India',\n",
              " 'Inverchapel,',\n",
              " 'Lord',\n",
              " 'Marshall,',\n",
              " 'Mediterranean',\n",
              " 'Moscow',\n",
              " 'Palestine',\n",
              " 'Secretary',\n",
              " 'Soviet',\n",
              " 'State',\n",
              " 'State,',\n",
              " 'States',\n",
              " 'States,',\n",
              " 'Suez',\n",
              " 'The',\n",
              " 'This',\n",
              " 'Trumpism',\n",
              " 'Turkey',\n",
              " 'Turkey.',\n",
              " 'Two,',\n",
              " 'UK',\n",
              " 'US',\n",
              " 'United',\n",
              " 'War',\n",
              " 'Washington,',\n",
              " 'Western',\n",
              " 'World',\n",
              " 'a',\n",
              " 'already',\n",
              " 'ambassador',\n",
              " 'an',\n",
              " 'and',\n",
              " 'and,',\n",
              " 'announced',\n",
              " 'are',\n",
              " 'armed',\n",
              " 'as',\n",
              " 'back?',\n",
              " 'be',\n",
              " 'blue',\n",
              " 'broke',\n",
              " 'by',\n",
              " 'continue',\n",
              " 'control',\n",
              " 'control.',\n",
              " 'could',\n",
              " 'crisis',\n",
              " 'danger',\n",
              " 'debt',\n",
              " 'departing',\n",
              " 'diplomatic',\n",
              " 'down',\n",
              " 'emphasise',\n",
              " 'end',\n",
              " 'equipped',\n",
              " 'expert',\n",
              " 'extension,',\n",
              " 'fall',\n",
              " 'feared',\n",
              " 'fighting',\n",
              " 'for',\n",
              " 'forces',\n",
              " 'fore',\n",
              " 'giving',\n",
              " 'global',\n",
              " 'government',\n",
              " 'gravest',\n",
              " 'had',\n",
              " 'hand',\n",
              " 'heavily',\n",
              " 'his',\n",
              " 'if',\n",
              " 'immediately',\n",
              " 'importance:',\n",
              " 'in',\n",
              " 'including,',\n",
              " 'insurgency.',\n",
              " 'into',\n",
              " 'is',\n",
              " 'it',\n",
              " 'it,',\n",
              " 'its',\n",
              " 'lasting',\n",
              " 'left',\n",
              " 'longer',\n",
              " 'messages',\n",
              " 'morning',\n",
              " 'nations',\n",
              " 'next,',\n",
              " 'no',\n",
              " 'now',\n",
              " 'of',\n",
              " 'on',\n",
              " 'one',\n",
              " 'one.',\n",
              " 'other',\n",
              " 'out',\n",
              " 'outlast',\n",
              " 'overnight,',\n",
              " 'paper',\n",
              " 'plans',\n",
              " 'potentially,',\n",
              " 'presence',\n",
              " 'presidency.',\n",
              " 'printed',\n",
              " 'pull',\n",
              " 'puts',\n",
              " 'real',\n",
              " 'route.',\n",
              " 'saw',\n",
              " 'security',\n",
              " 'since',\n",
              " 'stands',\n",
              " 'step',\n",
              " 'stepped',\n",
              " 'support',\n",
              " 'that',\n",
              " 'the',\n",
              " 'their',\n",
              " 'there',\n",
              " 'to',\n",
              " 'told',\n",
              " 'trade',\n",
              " 'two',\n",
              " 'vacuum',\n",
              " 'vital',\n",
              " 'walked',\n",
              " 'was',\n",
              " 'went,',\n",
              " 'were',\n",
              " 'which',\n",
              " 'will',\n",
              " 'wind',\n",
              " 'would'}"
            ]
          },
          "metadata": {},
          "execution_count": 17
        }
      ]
    },
    {
      "cell_type": "code",
      "source": [
        "input_token_seq = torch.LongTensor([1,2,3])"
      ],
      "metadata": {
        "id": "EkTW-7wylaw_"
      },
      "execution_count": 21,
      "outputs": []
    },
    {
      "cell_type": "code",
      "source": [
        "word_vector = word_emb(input_token_seq)"
      ],
      "metadata": {
        "id": "epKt-2VClr15"
      },
      "execution_count": 23,
      "outputs": []
    },
    {
      "cell_type": "code",
      "source": [
        "HIDDEN_DIM = 5\n",
        "input_to_hidden = nn.Linear(EMBEDDING_DIM, HIDDEN_DIM)"
      ],
      "metadata": {
        "id": "rOlcWB2vlu-w"
      },
      "execution_count": 24,
      "outputs": []
    },
    {
      "cell_type": "code",
      "source": [
        "i_to_h = input_to_hidden(word_vector)"
      ],
      "metadata": {
        "id": "f72oOdVgmWu7"
      },
      "execution_count": 25,
      "outputs": []
    },
    {
      "cell_type": "code",
      "source": [
        "i_to_h"
      ],
      "metadata": {
        "colab": {
          "base_uri": "https://localhost:8080/"
        },
        "id": "BGie5Hphmawz",
        "outputId": "b2d613f5-c5f8-4ff3-a20b-8d87751afb33"
      },
      "execution_count": 26,
      "outputs": [
        {
          "output_type": "execute_result",
          "data": {
            "text/plain": [
              "tensor([[-1.7022,  1.1070, -1.0159,  0.8682,  0.9383],\n",
              "        [-0.4495, -0.4238,  0.2617, -0.1441, -0.1638],\n",
              "        [-2.1999, -0.4539,  0.1254, -1.1991,  1.7142]],\n",
              "       grad_fn=<AddmmBackward0>)"
            ]
          },
          "metadata": {},
          "execution_count": 26
        }
      ]
    },
    {
      "cell_type": "code",
      "source": [
        "init_hidden = torch.rand(HIDDEN_DIM)"
      ],
      "metadata": {
        "id": "HH03Q0BtmbZO"
      },
      "execution_count": 27,
      "outputs": []
    },
    {
      "cell_type": "code",
      "source": [
        "hidden_to_hidden = nn.Linear(HIDDEN_DIM, HIDDEN_DIM)"
      ],
      "metadata": {
        "id": "5Vj4G0gkm44P"
      },
      "execution_count": 29,
      "outputs": []
    },
    {
      "cell_type": "code",
      "source": [
        "h_to_h = hidden_to_hidden(init_hidden)"
      ],
      "metadata": {
        "id": "f2FxAiWPmydN"
      },
      "execution_count": 32,
      "outputs": []
    },
    {
      "cell_type": "code",
      "source": [
        "torch.Tanh(i_to_h + h_to_h)"
      ],
      "metadata": {
        "colab": {
          "base_uri": "https://localhost:8080/",
          "height": 263
        },
        "id": "dN8Y6SuamzIs",
        "outputId": "c6001828-94bf-4610-9dd3-d775a53ea0f7"
      },
      "execution_count": 35,
      "outputs": [
        {
          "output_type": "error",
          "ename": "AttributeError",
          "evalue": "module 'torch' has no attribute 'Tanh'",
          "traceback": [
            "\u001b[0;31m---------------------------------------------------------------------------\u001b[0m",
            "\u001b[0;31mAttributeError\u001b[0m                            Traceback (most recent call last)",
            "\u001b[0;32m<ipython-input-35-b96c06e64ca6>\u001b[0m in \u001b[0;36m<cell line: 0>\u001b[0;34m()\u001b[0m\n\u001b[0;32m----> 1\u001b[0;31m \u001b[0mtorch\u001b[0m\u001b[0;34m.\u001b[0m\u001b[0mTanh\u001b[0m\u001b[0;34m(\u001b[0m\u001b[0mi_to_h\u001b[0m \u001b[0;34m+\u001b[0m \u001b[0mh_to_h\u001b[0m\u001b[0;34m)\u001b[0m\u001b[0;34m\u001b[0m\u001b[0;34m\u001b[0m\u001b[0m\n\u001b[0m",
            "\u001b[0;32m/usr/local/lib/python3.11/dist-packages/torch/__init__.py\u001b[0m in \u001b[0;36m__getattr__\u001b[0;34m(name)\u001b[0m\n\u001b[1;32m   2679\u001b[0m             \u001b[0;32mreturn\u001b[0m \u001b[0mimportlib\u001b[0m\u001b[0;34m.\u001b[0m\u001b[0mimport_module\u001b[0m\u001b[0;34m(\u001b[0m\u001b[0;34mf\".{name}\"\u001b[0m\u001b[0;34m,\u001b[0m \u001b[0m__name__\u001b[0m\u001b[0;34m)\u001b[0m\u001b[0;34m\u001b[0m\u001b[0;34m\u001b[0m\u001b[0m\n\u001b[1;32m   2680\u001b[0m \u001b[0;34m\u001b[0m\u001b[0m\n\u001b[0;32m-> 2681\u001b[0;31m         \u001b[0;32mraise\u001b[0m \u001b[0mAttributeError\u001b[0m\u001b[0;34m(\u001b[0m\u001b[0;34mf\"module '{__name__}' has no attribute '{name}'\"\u001b[0m\u001b[0;34m)\u001b[0m\u001b[0;34m\u001b[0m\u001b[0;34m\u001b[0m\u001b[0m\n\u001b[0m\u001b[1;32m   2682\u001b[0m \u001b[0;34m\u001b[0m\u001b[0m\n\u001b[1;32m   2683\u001b[0m \u001b[0;34m\u001b[0m\u001b[0m\n",
            "\u001b[0;31mAttributeError\u001b[0m: module 'torch' has no attribute 'Tanh'"
          ]
        }
      ]
    },
    {
      "cell_type": "code",
      "source": [
        "nn.RNNBase"
      ],
      "metadata": {
        "id": "zmuuV5NBnWRo"
      },
      "execution_count": null,
      "outputs": []
    }
  ]
}