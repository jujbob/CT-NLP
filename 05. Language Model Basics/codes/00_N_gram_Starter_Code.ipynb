{
  "nbformat": 4,
  "nbformat_minor": 0,
  "metadata": {
    "colab": {
      "provenance": []
    },
    "kernelspec": {
      "name": "python3",
      "display_name": "Python 3"
    },
    "language_info": {
      "name": "python"
    }
  },
  "cells": [
    {
      "cell_type": "code",
      "execution_count": 1,
      "metadata": {
        "id": "HR12ECM-QubG"
      },
      "outputs": [],
      "source": [
        "import nltk\n",
        "from nltk.util import ngrams\n",
        "from nltk import word_tokenize\n",
        "from nltk import ConditionalFreqDist\n",
        "from nltk.probability import ConditionalProbDist, MLEProbDist\n",
        "import numpy as np\n",
        "import codecs\n",
        "from tqdm import tqdm\n",
        "import random"
      ]
    },
    {
      "cell_type": "code",
      "source": [
        "token_list = ['나', '는', '매일', '아침', '지하철', '을', '탄다']"
      ],
      "metadata": {
        "id": "o6S_GIH3QyoZ"
      },
      "execution_count": 2,
      "outputs": []
    },
    {
      "cell_type": "code",
      "source": [
        "bigram = ngrams(token_list, 2)\n",
        "trigram = ngrams(token_list, 3)"
      ],
      "metadata": {
        "id": "q0kqREaxRDRn"
      },
      "execution_count": 3,
      "outputs": []
    },
    {
      "cell_type": "code",
      "source": [
        "bigram"
      ],
      "metadata": {
        "colab": {
          "base_uri": "https://localhost:8080/"
        },
        "id": "pP44dn0URGbd",
        "outputId": "ac5f490b-b3fa-42ab-f1c8-bcd656e2be2b"
      },
      "execution_count": 4,
      "outputs": [
        {
          "output_type": "execute_result",
          "data": {
            "text/plain": [
              "<generator object ngrams at 0x7d14acad2ac0>"
            ]
          },
          "metadata": {},
          "execution_count": 4
        }
      ]
    },
    {
      "cell_type": "code",
      "source": [
        "# Print N-gram.\n",
        "print(\"bigram: \")\n",
        "for b in bigram:\n",
        "  print(b)\n",
        "\n",
        "print(\"\\ntrigram: \")\n",
        "for t in trigram:\n",
        "  print(t)"
      ],
      "metadata": {
        "colab": {
          "base_uri": "https://localhost:8080/"
        },
        "id": "fm3utakuRHXl",
        "outputId": "9850b348-0aff-4439-c9df-2b0f317f19d4"
      },
      "execution_count": 5,
      "outputs": [
        {
          "output_type": "stream",
          "name": "stdout",
          "text": [
            "bigram: \n",
            "('나', '는')\n",
            "('는', '매일')\n",
            "('매일', '아침')\n",
            "('아침', '지하철')\n",
            "('지하철', '을')\n",
            "('을', '탄다')\n",
            "\n",
            "trigram: \n",
            "('나', '는', '매일')\n",
            "('는', '매일', '아침')\n",
            "('매일', '아침', '지하철')\n",
            "('아침', '지하철', '을')\n",
            "('지하철', '을', '탄다')\n"
          ]
        }
      ]
    },
    {
      "cell_type": "code",
      "source": [
        "# bigram with padding\n",
        "bigram = ngrams(token_list, 2, pad_left=True, pad_right=True, left_pad_symbol=\"<s>\", right_pad_symbol=\"</s>\")\n",
        "print(\"bigrams with padding: \")\n",
        "for b in bigram:\n",
        "  print(b)"
      ],
      "metadata": {
        "colab": {
          "base_uri": "https://localhost:8080/"
        },
        "id": "9QB0UzRMRYVq",
        "outputId": "4f2eefde-c128-48d8-cfc8-4ff88d4307c3"
      },
      "execution_count": 7,
      "outputs": [
        {
          "output_type": "stream",
          "name": "stdout",
          "text": [
            "bigrams with padding: \n",
            "('<s>', '나')\n",
            "('나', '는')\n",
            "('는', '매일')\n",
            "('매일', '아침')\n",
            "('아침', '지하철')\n",
            "('지하철', '을')\n",
            "('을', '탄다')\n",
            "('탄다', '</s>')\n"
          ]
        }
      ]
    },
    {
      "cell_type": "code",
      "source": [
        "# Downlaod the dataset\n",
        "%%time\n",
        "!wget -nc -q https://raw.githubusercontent.com/e9t/nsmc/master/ratings_train.txt"
      ],
      "metadata": {
        "colab": {
          "base_uri": "https://localhost:8080/"
        },
        "id": "Gc_r18zyRcpQ",
        "outputId": "35110e79-4fae-4d5a-ca0c-ba67b7799001"
      },
      "execution_count": 8,
      "outputs": [
        {
          "output_type": "stream",
          "name": "stdout",
          "text": [
            "CPU times: user 11.4 ms, sys: 3.06 ms, total: 14.5 ms\n",
            "Wall time: 806 ms\n"
          ]
        }
      ]
    },
    {
      "cell_type": "code",
      "source": [
        "# Read and make the dataset for Bigram\n",
        "\n",
        "with codecs.open(\"ratings_train.txt\", encoding='utf-8') as f:\n",
        "  data = [line.split('\\t') for line in f.read().splitlines()] # \\n\n",
        "  data = data[1:] # for getting rid of Header\n",
        "print(\"datasets: \", data[:10])\n",
        "docs = [row[1] for row in data]\n",
        "print(\"\\n Only Texts:\", docs[:5])\n",
        "print(\"\\n Num of samples: \",len(docs))"
      ],
      "metadata": {
        "colab": {
          "base_uri": "https://localhost:8080/"
        },
        "id": "UXgULolvRiyi",
        "outputId": "f203e968-d206-4aa7-b350-979624d5db28"
      },
      "execution_count": 11,
      "outputs": [
        {
          "output_type": "stream",
          "name": "stdout",
          "text": [
            "datasets:  [['9976970', '아 더빙.. 진짜 짜증나네요 목소리', '0'], ['3819312', '흠...포스터보고 초딩영화줄....오버연기조차 가볍지 않구나', '1'], ['10265843', '너무재밓었다그래서보는것을추천한다', '0'], ['9045019', '교도소 이야기구먼 ..솔직히 재미는 없다..평점 조정', '0'], ['6483659', '사이몬페그의 익살스런 연기가 돋보였던 영화!스파이더맨에서 늙어보이기만 했던 커스틴 던스트가 너무나도 이뻐보였다', '1'], ['5403919', '막 걸음마 뗀 3세부터 초등학교 1학년생인 8살용영화.ㅋㅋㅋ...별반개도 아까움.', '0'], ['7797314', '원작의 긴장감을 제대로 살려내지못했다.', '0'], ['9443947', '별 반개도 아깝다 욕나온다 이응경 길용우 연기생활이몇년인지..정말 발로해도 그것보단 낫겟다 납치.감금만반복반복..이드라마는 가족도없다 연기못하는사람만모엿네', '0'], ['7156791', '액션이 없는데도 재미 있는 몇안되는 영화', '1'], ['5912145', '왜케 평점이 낮은건데? 꽤 볼만한데.. 헐리우드식 화려함에만 너무 길들여져 있나?', '1']]\n",
            "\n",
            " Only Texts: ['아 더빙.. 진짜 짜증나네요 목소리', '흠...포스터보고 초딩영화줄....오버연기조차 가볍지 않구나', '너무재밓었다그래서보는것을추천한다', '교도소 이야기구먼 ..솔직히 재미는 없다..평점 조정', '사이몬페그의 익살스런 연기가 돋보였던 영화!스파이더맨에서 늙어보이기만 했던 커스틴 던스트가 너무나도 이뻐보였다']\n",
            "\n",
            " Num of samples:  150000\n"
          ]
        }
      ]
    },
    {
      "cell_type": "code",
      "source": [],
      "metadata": {
        "id": "nfpZi_DSRqm7"
      },
      "execution_count": null,
      "outputs": []
    }
  ]
}