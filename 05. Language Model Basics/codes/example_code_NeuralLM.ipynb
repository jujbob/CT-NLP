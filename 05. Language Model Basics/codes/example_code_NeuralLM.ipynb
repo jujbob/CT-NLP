{
  "nbformat": 4,
  "nbformat_minor": 0,
  "metadata": {
    "colab": {
      "provenance": []
    },
    "kernelspec": {
      "name": "python3",
      "display_name": "Python 3"
    },
    "language_info": {
      "name": "python"
    }
  },
  "cells": [
    {
      "cell_type": "markdown",
      "source": [
        "# NN-based Language Model\n",
        " - Goal: To build LM based on NN\n",
        " - Input: the seq of words (x1, xn)\n",
        " - Output: netx word (x_n+1)"
      ],
      "metadata": {
        "id": "2VZNPeBMxzTr"
      }
    },
    {
      "cell_type": "markdown",
      "source": [
        "## 01. Load packages"
      ],
      "metadata": {
        "id": "pTTO8IBXyHJ-"
      }
    },
    {
      "cell_type": "code",
      "execution_count": 1,
      "metadata": {
        "id": "ceCmYM7hxvbM"
      },
      "outputs": [],
      "source": [
        "import torch\n",
        "import torch.nn as nn\n",
        "import torch.nn.functional as F\n",
        "#import torch.optim as optim"
      ]
    },
    {
      "cell_type": "markdown",
      "source": [
        "## 02. preprocessing of data"
      ],
      "metadata": {
        "id": "GJQEAbWDybO2"
      }
    },
    {
      "cell_type": "code",
      "source": [
        "test_sentence = \"\"\"\n",
        "This is the gravest crisis for Western security since the end of World War Two, and a lasting one. As one expert puts it, Trumpism will outlast his presidency. But which nations are equipped to step to the fore as the US stands back? At 09.00 one morning in February 1947, the UK ambassador in Washington, Lord Inverchapel, walked into the State Department to hand the US Secretary of State, George Marshall, two diplomatic messages printed on blue paper to emphasise their importance: one on Greece, the other on Turkey. Exhausted, broke and heavily in debt to the United States, Britain told the US that it could no longer continue its support for the Greek government forces that were fighting an armed Communist insurgency. Britain had already announced plans to pull out of Palestine and India and to wind down its presence in Egypt.\n",
        "The United States saw immediately that there was now a real danger that Greece would fall to the Communists and, by extension, to Soviet control. And if Greece went, the United States feared that Turkey could be next, giving Moscow control of the Eastern Mediterranean including, potentially, the Suez Canal, a vital global trade route.\n",
        "Almost overnight, the United States stepped into the vacuum left by the departing British.\n",
        "\"\"\"\n"
      ],
      "metadata": {
        "id": "yVWEK0ugyVk1"
      },
      "execution_count": 6,
      "outputs": []
    },
    {
      "cell_type": "code",
      "source": [
        "test_sentence = test_sentence.split()"
      ],
      "metadata": {
        "id": "J1oRM7TwyxA8"
      },
      "execution_count": 7,
      "outputs": []
    },
    {
      "cell_type": "code",
      "source": [
        "test_sentence"
      ],
      "metadata": {
        "colab": {
          "base_uri": "https://localhost:8080/"
        },
        "collapsed": true,
        "id": "nMLafWE5y5kF",
        "outputId": "2fa5db71-aa63-4bd8-c498-ec8b654eee4b"
      },
      "execution_count": 8,
      "outputs": [
        {
          "output_type": "execute_result",
          "data": {
            "text/plain": [
              "['This',\n",
              " 'is',\n",
              " 'the',\n",
              " 'gravest',\n",
              " 'crisis',\n",
              " 'for',\n",
              " 'Western',\n",
              " 'security',\n",
              " 'since',\n",
              " 'the',\n",
              " 'end',\n",
              " 'of',\n",
              " 'World',\n",
              " 'War',\n",
              " 'Two,',\n",
              " 'and',\n",
              " 'a',\n",
              " 'lasting',\n",
              " 'one.',\n",
              " 'As',\n",
              " 'one',\n",
              " 'expert',\n",
              " 'puts',\n",
              " 'it,',\n",
              " 'Trumpism',\n",
              " 'will',\n",
              " 'outlast',\n",
              " 'his',\n",
              " 'presidency.',\n",
              " 'But',\n",
              " 'which',\n",
              " 'nations',\n",
              " 'are',\n",
              " 'equipped',\n",
              " 'to',\n",
              " 'step',\n",
              " 'to',\n",
              " 'the',\n",
              " 'fore',\n",
              " 'as',\n",
              " 'the',\n",
              " 'US',\n",
              " 'stands',\n",
              " 'back?',\n",
              " 'At',\n",
              " '09.00',\n",
              " 'one',\n",
              " 'morning',\n",
              " 'in',\n",
              " 'February',\n",
              " '1947,',\n",
              " 'the',\n",
              " 'UK',\n",
              " 'ambassador',\n",
              " 'in',\n",
              " 'Washington,',\n",
              " 'Lord',\n",
              " 'Inverchapel,',\n",
              " 'walked',\n",
              " 'into',\n",
              " 'the',\n",
              " 'State',\n",
              " 'Department',\n",
              " 'to',\n",
              " 'hand',\n",
              " 'the',\n",
              " 'US',\n",
              " 'Secretary',\n",
              " 'of',\n",
              " 'State,',\n",
              " 'George',\n",
              " 'Marshall,',\n",
              " 'two',\n",
              " 'diplomatic',\n",
              " 'messages',\n",
              " 'printed',\n",
              " 'on',\n",
              " 'blue',\n",
              " 'paper',\n",
              " 'to',\n",
              " 'emphasise',\n",
              " 'their',\n",
              " 'importance:',\n",
              " 'one',\n",
              " 'on',\n",
              " 'Greece,',\n",
              " 'the',\n",
              " 'other',\n",
              " 'on',\n",
              " 'Turkey.',\n",
              " 'Exhausted,',\n",
              " 'broke',\n",
              " 'and',\n",
              " 'heavily',\n",
              " 'in',\n",
              " 'debt',\n",
              " 'to',\n",
              " 'the',\n",
              " 'United',\n",
              " 'States,',\n",
              " 'Britain',\n",
              " 'told',\n",
              " 'the',\n",
              " 'US',\n",
              " 'that',\n",
              " 'it',\n",
              " 'could',\n",
              " 'no',\n",
              " 'longer',\n",
              " 'continue',\n",
              " 'its',\n",
              " 'support',\n",
              " 'for',\n",
              " 'the',\n",
              " 'Greek',\n",
              " 'government',\n",
              " 'forces',\n",
              " 'that',\n",
              " 'were',\n",
              " 'fighting',\n",
              " 'an',\n",
              " 'armed',\n",
              " 'Communist',\n",
              " 'insurgency.',\n",
              " 'Britain',\n",
              " 'had',\n",
              " 'already',\n",
              " 'announced',\n",
              " 'plans',\n",
              " 'to',\n",
              " 'pull',\n",
              " 'out',\n",
              " 'of',\n",
              " 'Palestine',\n",
              " 'and',\n",
              " 'India',\n",
              " 'and',\n",
              " 'to',\n",
              " 'wind',\n",
              " 'down',\n",
              " 'its',\n",
              " 'presence',\n",
              " 'in',\n",
              " 'Egypt.',\n",
              " 'The',\n",
              " 'United',\n",
              " 'States',\n",
              " 'saw',\n",
              " 'immediately',\n",
              " 'that',\n",
              " 'there',\n",
              " 'was',\n",
              " 'now',\n",
              " 'a',\n",
              " 'real',\n",
              " 'danger',\n",
              " 'that',\n",
              " 'Greece',\n",
              " 'would',\n",
              " 'fall',\n",
              " 'to',\n",
              " 'the',\n",
              " 'Communists',\n",
              " 'and,',\n",
              " 'by',\n",
              " 'extension,',\n",
              " 'to',\n",
              " 'Soviet',\n",
              " 'control.',\n",
              " 'And',\n",
              " 'if',\n",
              " 'Greece',\n",
              " 'went,',\n",
              " 'the',\n",
              " 'United',\n",
              " 'States',\n",
              " 'feared',\n",
              " 'that',\n",
              " 'Turkey',\n",
              " 'could',\n",
              " 'be',\n",
              " 'next,',\n",
              " 'giving',\n",
              " 'Moscow',\n",
              " 'control',\n",
              " 'of',\n",
              " 'the',\n",
              " 'Eastern',\n",
              " 'Mediterranean',\n",
              " 'including,',\n",
              " 'potentially,',\n",
              " 'the',\n",
              " 'Suez',\n",
              " 'Canal,',\n",
              " 'a',\n",
              " 'vital',\n",
              " 'global',\n",
              " 'trade',\n",
              " 'route.',\n",
              " 'Almost',\n",
              " 'overnight,',\n",
              " 'the',\n",
              " 'United',\n",
              " 'States',\n",
              " 'stepped',\n",
              " 'into',\n",
              " 'the',\n",
              " 'vacuum',\n",
              " 'left',\n",
              " 'by',\n",
              " 'the',\n",
              " 'departing',\n",
              " 'British.']"
            ]
          },
          "metadata": {},
          "execution_count": 8
        }
      ]
    },
    {
      "cell_type": "code",
      "source": [
        "CONTEXT_SIZE = 2"
      ],
      "metadata": {
        "id": "aI8Hx-w5zY-y"
      },
      "execution_count": 9,
      "outputs": []
    },
    {
      "cell_type": "code",
      "source": [
        "ngram=[\n",
        "  (\n",
        "    [test_sentence[i-j-1] for j in range(CONTEXT_SIZE)], test_sentence[i]\n",
        "\n",
        "  )\n",
        "  for i in range(CONTEXT_SIZE, len(test_sentence))\n",
        " ]"
      ],
      "metadata": {
        "id": "gGWdejhkzwXY"
      },
      "execution_count": 14,
      "outputs": []
    },
    {
      "cell_type": "code",
      "source": [
        "ngram"
      ],
      "metadata": {
        "colab": {
          "base_uri": "https://localhost:8080/"
        },
        "collapsed": true,
        "id": "AfjnaUeyy6Mc",
        "outputId": "5c2a1fbc-2d26-42c9-92d8-fe9bbc60b9a3"
      },
      "execution_count": 15,
      "outputs": [
        {
          "output_type": "execute_result",
          "data": {
            "text/plain": [
              "[(['is', 'This'], 'the'),\n",
              " (['the', 'is'], 'gravest'),\n",
              " (['gravest', 'the'], 'crisis'),\n",
              " (['crisis', 'gravest'], 'for'),\n",
              " (['for', 'crisis'], 'Western'),\n",
              " (['Western', 'for'], 'security'),\n",
              " (['security', 'Western'], 'since'),\n",
              " (['since', 'security'], 'the'),\n",
              " (['the', 'since'], 'end'),\n",
              " (['end', 'the'], 'of'),\n",
              " (['of', 'end'], 'World'),\n",
              " (['World', 'of'], 'War'),\n",
              " (['War', 'World'], 'Two,'),\n",
              " (['Two,', 'War'], 'and'),\n",
              " (['and', 'Two,'], 'a'),\n",
              " (['a', 'and'], 'lasting'),\n",
              " (['lasting', 'a'], 'one.'),\n",
              " (['one.', 'lasting'], 'As'),\n",
              " (['As', 'one.'], 'one'),\n",
              " (['one', 'As'], 'expert'),\n",
              " (['expert', 'one'], 'puts'),\n",
              " (['puts', 'expert'], 'it,'),\n",
              " (['it,', 'puts'], 'Trumpism'),\n",
              " (['Trumpism', 'it,'], 'will'),\n",
              " (['will', 'Trumpism'], 'outlast'),\n",
              " (['outlast', 'will'], 'his'),\n",
              " (['his', 'outlast'], 'presidency.'),\n",
              " (['presidency.', 'his'], 'But'),\n",
              " (['But', 'presidency.'], 'which'),\n",
              " (['which', 'But'], 'nations'),\n",
              " (['nations', 'which'], 'are'),\n",
              " (['are', 'nations'], 'equipped'),\n",
              " (['equipped', 'are'], 'to'),\n",
              " (['to', 'equipped'], 'step'),\n",
              " (['step', 'to'], 'to'),\n",
              " (['to', 'step'], 'the'),\n",
              " (['the', 'to'], 'fore'),\n",
              " (['fore', 'the'], 'as'),\n",
              " (['as', 'fore'], 'the'),\n",
              " (['the', 'as'], 'US'),\n",
              " (['US', 'the'], 'stands'),\n",
              " (['stands', 'US'], 'back?'),\n",
              " (['back?', 'stands'], 'At'),\n",
              " (['At', 'back?'], '09.00'),\n",
              " (['09.00', 'At'], 'one'),\n",
              " (['one', '09.00'], 'morning'),\n",
              " (['morning', 'one'], 'in'),\n",
              " (['in', 'morning'], 'February'),\n",
              " (['February', 'in'], '1947,'),\n",
              " (['1947,', 'February'], 'the'),\n",
              " (['the', '1947,'], 'UK'),\n",
              " (['UK', 'the'], 'ambassador'),\n",
              " (['ambassador', 'UK'], 'in'),\n",
              " (['in', 'ambassador'], 'Washington,'),\n",
              " (['Washington,', 'in'], 'Lord'),\n",
              " (['Lord', 'Washington,'], 'Inverchapel,'),\n",
              " (['Inverchapel,', 'Lord'], 'walked'),\n",
              " (['walked', 'Inverchapel,'], 'into'),\n",
              " (['into', 'walked'], 'the'),\n",
              " (['the', 'into'], 'State'),\n",
              " (['State', 'the'], 'Department'),\n",
              " (['Department', 'State'], 'to'),\n",
              " (['to', 'Department'], 'hand'),\n",
              " (['hand', 'to'], 'the'),\n",
              " (['the', 'hand'], 'US'),\n",
              " (['US', 'the'], 'Secretary'),\n",
              " (['Secretary', 'US'], 'of'),\n",
              " (['of', 'Secretary'], 'State,'),\n",
              " (['State,', 'of'], 'George'),\n",
              " (['George', 'State,'], 'Marshall,'),\n",
              " (['Marshall,', 'George'], 'two'),\n",
              " (['two', 'Marshall,'], 'diplomatic'),\n",
              " (['diplomatic', 'two'], 'messages'),\n",
              " (['messages', 'diplomatic'], 'printed'),\n",
              " (['printed', 'messages'], 'on'),\n",
              " (['on', 'printed'], 'blue'),\n",
              " (['blue', 'on'], 'paper'),\n",
              " (['paper', 'blue'], 'to'),\n",
              " (['to', 'paper'], 'emphasise'),\n",
              " (['emphasise', 'to'], 'their'),\n",
              " (['their', 'emphasise'], 'importance:'),\n",
              " (['importance:', 'their'], 'one'),\n",
              " (['one', 'importance:'], 'on'),\n",
              " (['on', 'one'], 'Greece,'),\n",
              " (['Greece,', 'on'], 'the'),\n",
              " (['the', 'Greece,'], 'other'),\n",
              " (['other', 'the'], 'on'),\n",
              " (['on', 'other'], 'Turkey.'),\n",
              " (['Turkey.', 'on'], 'Exhausted,'),\n",
              " (['Exhausted,', 'Turkey.'], 'broke'),\n",
              " (['broke', 'Exhausted,'], 'and'),\n",
              " (['and', 'broke'], 'heavily'),\n",
              " (['heavily', 'and'], 'in'),\n",
              " (['in', 'heavily'], 'debt'),\n",
              " (['debt', 'in'], 'to'),\n",
              " (['to', 'debt'], 'the'),\n",
              " (['the', 'to'], 'United'),\n",
              " (['United', 'the'], 'States,'),\n",
              " (['States,', 'United'], 'Britain'),\n",
              " (['Britain', 'States,'], 'told'),\n",
              " (['told', 'Britain'], 'the'),\n",
              " (['the', 'told'], 'US'),\n",
              " (['US', 'the'], 'that'),\n",
              " (['that', 'US'], 'it'),\n",
              " (['it', 'that'], 'could'),\n",
              " (['could', 'it'], 'no'),\n",
              " (['no', 'could'], 'longer'),\n",
              " (['longer', 'no'], 'continue'),\n",
              " (['continue', 'longer'], 'its'),\n",
              " (['its', 'continue'], 'support'),\n",
              " (['support', 'its'], 'for'),\n",
              " (['for', 'support'], 'the'),\n",
              " (['the', 'for'], 'Greek'),\n",
              " (['Greek', 'the'], 'government'),\n",
              " (['government', 'Greek'], 'forces'),\n",
              " (['forces', 'government'], 'that'),\n",
              " (['that', 'forces'], 'were'),\n",
              " (['were', 'that'], 'fighting'),\n",
              " (['fighting', 'were'], 'an'),\n",
              " (['an', 'fighting'], 'armed'),\n",
              " (['armed', 'an'], 'Communist'),\n",
              " (['Communist', 'armed'], 'insurgency.'),\n",
              " (['insurgency.', 'Communist'], 'Britain'),\n",
              " (['Britain', 'insurgency.'], 'had'),\n",
              " (['had', 'Britain'], 'already'),\n",
              " (['already', 'had'], 'announced'),\n",
              " (['announced', 'already'], 'plans'),\n",
              " (['plans', 'announced'], 'to'),\n",
              " (['to', 'plans'], 'pull'),\n",
              " (['pull', 'to'], 'out'),\n",
              " (['out', 'pull'], 'of'),\n",
              " (['of', 'out'], 'Palestine'),\n",
              " (['Palestine', 'of'], 'and'),\n",
              " (['and', 'Palestine'], 'India'),\n",
              " (['India', 'and'], 'and'),\n",
              " (['and', 'India'], 'to'),\n",
              " (['to', 'and'], 'wind'),\n",
              " (['wind', 'to'], 'down'),\n",
              " (['down', 'wind'], 'its'),\n",
              " (['its', 'down'], 'presence'),\n",
              " (['presence', 'its'], 'in'),\n",
              " (['in', 'presence'], 'Egypt.'),\n",
              " (['Egypt.', 'in'], 'The'),\n",
              " (['The', 'Egypt.'], 'United'),\n",
              " (['United', 'The'], 'States'),\n",
              " (['States', 'United'], 'saw'),\n",
              " (['saw', 'States'], 'immediately'),\n",
              " (['immediately', 'saw'], 'that'),\n",
              " (['that', 'immediately'], 'there'),\n",
              " (['there', 'that'], 'was'),\n",
              " (['was', 'there'], 'now'),\n",
              " (['now', 'was'], 'a'),\n",
              " (['a', 'now'], 'real'),\n",
              " (['real', 'a'], 'danger'),\n",
              " (['danger', 'real'], 'that'),\n",
              " (['that', 'danger'], 'Greece'),\n",
              " (['Greece', 'that'], 'would'),\n",
              " (['would', 'Greece'], 'fall'),\n",
              " (['fall', 'would'], 'to'),\n",
              " (['to', 'fall'], 'the'),\n",
              " (['the', 'to'], 'Communists'),\n",
              " (['Communists', 'the'], 'and,'),\n",
              " (['and,', 'Communists'], 'by'),\n",
              " (['by', 'and,'], 'extension,'),\n",
              " (['extension,', 'by'], 'to'),\n",
              " (['to', 'extension,'], 'Soviet'),\n",
              " (['Soviet', 'to'], 'control.'),\n",
              " (['control.', 'Soviet'], 'And'),\n",
              " (['And', 'control.'], 'if'),\n",
              " (['if', 'And'], 'Greece'),\n",
              " (['Greece', 'if'], 'went,'),\n",
              " (['went,', 'Greece'], 'the'),\n",
              " (['the', 'went,'], 'United'),\n",
              " (['United', 'the'], 'States'),\n",
              " (['States', 'United'], 'feared'),\n",
              " (['feared', 'States'], 'that'),\n",
              " (['that', 'feared'], 'Turkey'),\n",
              " (['Turkey', 'that'], 'could'),\n",
              " (['could', 'Turkey'], 'be'),\n",
              " (['be', 'could'], 'next,'),\n",
              " (['next,', 'be'], 'giving'),\n",
              " (['giving', 'next,'], 'Moscow'),\n",
              " (['Moscow', 'giving'], 'control'),\n",
              " (['control', 'Moscow'], 'of'),\n",
              " (['of', 'control'], 'the'),\n",
              " (['the', 'of'], 'Eastern'),\n",
              " (['Eastern', 'the'], 'Mediterranean'),\n",
              " (['Mediterranean', 'Eastern'], 'including,'),\n",
              " (['including,', 'Mediterranean'], 'potentially,'),\n",
              " (['potentially,', 'including,'], 'the'),\n",
              " (['the', 'potentially,'], 'Suez'),\n",
              " (['Suez', 'the'], 'Canal,'),\n",
              " (['Canal,', 'Suez'], 'a'),\n",
              " (['a', 'Canal,'], 'vital'),\n",
              " (['vital', 'a'], 'global'),\n",
              " (['global', 'vital'], 'trade'),\n",
              " (['trade', 'global'], 'route.'),\n",
              " (['route.', 'trade'], 'Almost'),\n",
              " (['Almost', 'route.'], 'overnight,'),\n",
              " (['overnight,', 'Almost'], 'the'),\n",
              " (['the', 'overnight,'], 'United'),\n",
              " (['United', 'the'], 'States'),\n",
              " (['States', 'United'], 'stepped'),\n",
              " (['stepped', 'States'], 'into'),\n",
              " (['into', 'stepped'], 'the'),\n",
              " (['the', 'into'], 'vacuum'),\n",
              " (['vacuum', 'the'], 'left'),\n",
              " (['left', 'vacuum'], 'by'),\n",
              " (['by', 'left'], 'the'),\n",
              " (['the', 'by'], 'departing'),\n",
              " (['departing', 'the'], 'British.')]"
            ]
          },
          "metadata": {},
          "execution_count": 15
        }
      ]
    },
    {
      "cell_type": "code",
      "source": [
        "vocab = set(test_sentence)"
      ],
      "metadata": {
        "id": "xyrTffC40wz5"
      },
      "execution_count": 17,
      "outputs": []
    },
    {
      "cell_type": "code",
      "source": [
        "word_to_ix = {word: i for i, word in enumerate(vocab)}"
      ],
      "metadata": {
        "id": "El09K--O1HRA"
      },
      "execution_count": 18,
      "outputs": []
    },
    {
      "cell_type": "code",
      "source": [
        "word_to_ix"
      ],
      "metadata": {
        "collapsed": true,
        "colab": {
          "base_uri": "https://localhost:8080/"
        },
        "id": "7EJFrKfh1RwF",
        "outputId": "fd695e0d-f334-46eb-c5c3-01546afd8867"
      },
      "execution_count": 19,
      "outputs": [
        {
          "output_type": "execute_result",
          "data": {
            "text/plain": [
              "{'step': 0,\n",
              " 'departing': 1,\n",
              " 'already': 2,\n",
              " 'as': 3,\n",
              " 'the': 4,\n",
              " 'vital': 5,\n",
              " 'which': 6,\n",
              " 'diplomatic': 7,\n",
              " 'presidency.': 8,\n",
              " 'This': 9,\n",
              " 'giving': 10,\n",
              " 'there': 11,\n",
              " 'Washington,': 12,\n",
              " 'At': 13,\n",
              " 'Trumpism': 14,\n",
              " 'Communist': 15,\n",
              " 'that': 16,\n",
              " 'will': 17,\n",
              " 'potentially,': 18,\n",
              " 'India': 19,\n",
              " 'Britain': 20,\n",
              " 'is': 21,\n",
              " 'Inverchapel,': 22,\n",
              " 'equipped': 23,\n",
              " 'a': 24,\n",
              " 'on': 25,\n",
              " 'for': 26,\n",
              " 'printed': 27,\n",
              " 'in': 28,\n",
              " 'February': 29,\n",
              " 'Mediterranean': 30,\n",
              " 'And': 31,\n",
              " 'one': 32,\n",
              " 'danger': 33,\n",
              " 'trade': 34,\n",
              " 'extension,': 35,\n",
              " 'including,': 36,\n",
              " 'stepped': 37,\n",
              " 'vacuum': 38,\n",
              " 'continue': 39,\n",
              " 'out': 40,\n",
              " 'down': 41,\n",
              " 'Turkey': 42,\n",
              " 'Turkey.': 43,\n",
              " 'walked': 44,\n",
              " 'Lord': 45,\n",
              " 'no': 46,\n",
              " 'State': 47,\n",
              " 'an': 48,\n",
              " 'was': 49,\n",
              " 'As': 50,\n",
              " '09.00': 51,\n",
              " '1947,': 52,\n",
              " 'forces': 53,\n",
              " 'Greek': 54,\n",
              " 'Soviet': 55,\n",
              " 'paper': 56,\n",
              " 'Department': 57,\n",
              " 'Communists': 58,\n",
              " 'UK': 59,\n",
              " 'armed': 60,\n",
              " 'hand': 61,\n",
              " 'plans': 62,\n",
              " 'overnight,': 63,\n",
              " 'two': 64,\n",
              " 'end': 65,\n",
              " 'Suez': 66,\n",
              " 'heavily': 67,\n",
              " 'could': 68,\n",
              " 'presence': 69,\n",
              " 'gravest': 70,\n",
              " 'The': 71,\n",
              " 'to': 72,\n",
              " 'of': 73,\n",
              " 'Western': 74,\n",
              " 'nations': 75,\n",
              " 'importance:': 76,\n",
              " 'real': 77,\n",
              " 'Almost': 78,\n",
              " 'their': 79,\n",
              " 'expert': 80,\n",
              " 'lasting': 81,\n",
              " 'are': 82,\n",
              " 'and,': 83,\n",
              " 'one.': 84,\n",
              " 'had': 85,\n",
              " 'Egypt.': 86,\n",
              " 'emphasise': 87,\n",
              " 'US': 88,\n",
              " 'puts': 89,\n",
              " 'it,': 90,\n",
              " 'security': 91,\n",
              " 'World': 92,\n",
              " 'wind': 93,\n",
              " 'told': 94,\n",
              " 'Secretary': 95,\n",
              " 'Eastern': 96,\n",
              " 'route.': 97,\n",
              " 'But': 98,\n",
              " 'ambassador': 99,\n",
              " 'pull': 100,\n",
              " 'United': 101,\n",
              " 'immediately': 102,\n",
              " 'Canal,': 103,\n",
              " 'Greece': 104,\n",
              " 'left': 105,\n",
              " 'other': 106,\n",
              " 'fore': 107,\n",
              " 'States,': 108,\n",
              " 'went,': 109,\n",
              " 'Greece,': 110,\n",
              " 'British.': 111,\n",
              " 'fighting': 112,\n",
              " 'blue': 113,\n",
              " 'support': 114,\n",
              " 'States': 115,\n",
              " 'government': 116,\n",
              " 'insurgency.': 117,\n",
              " 'if': 118,\n",
              " 'stands': 119,\n",
              " 'his': 120,\n",
              " 'State,': 121,\n",
              " 'debt': 122,\n",
              " 'messages': 123,\n",
              " 'War': 124,\n",
              " 'were': 125,\n",
              " 'fall': 126,\n",
              " 'feared': 127,\n",
              " 'into': 128,\n",
              " 'control.': 129,\n",
              " 'global': 130,\n",
              " 'morning': 131,\n",
              " 'Marshall,': 132,\n",
              " 'Exhausted,': 133,\n",
              " 'crisis': 134,\n",
              " 'announced': 135,\n",
              " 'its': 136,\n",
              " 'broke': 137,\n",
              " 'saw': 138,\n",
              " 'Moscow': 139,\n",
              " 'since': 140,\n",
              " 'be': 141,\n",
              " 'would': 142,\n",
              " 'longer': 143,\n",
              " 'outlast': 144,\n",
              " 'George': 145,\n",
              " 'Palestine': 146,\n",
              " 'next,': 147,\n",
              " 'control': 148,\n",
              " 'now': 149,\n",
              " 'it': 150,\n",
              " 'back?': 151,\n",
              " 'and': 152,\n",
              " 'Two,': 153,\n",
              " 'by': 154}"
            ]
          },
          "metadata": {},
          "execution_count": 19
        }
      ]
    },
    {
      "cell_type": "markdown",
      "source": [
        "# 03. Build our model"
      ],
      "metadata": {
        "id": "ojl9K-SN1ZQd"
      }
    },
    {
      "cell_type": "code",
      "source": [
        "EMBEDDING_DIM = 10\n",
        "N_gram = 3"
      ],
      "metadata": {
        "id": "xklN0XDq1nuU"
      },
      "execution_count": 50,
      "outputs": []
    },
    {
      "cell_type": "code",
      "source": [
        "embeddings = nn.Embedding(len(vocab), EMBEDDING_DIM)"
      ],
      "metadata": {
        "id": "1NvO6FOP1Sdl"
      },
      "execution_count": 22,
      "outputs": []
    },
    {
      "cell_type": "code",
      "source": [
        "#torch.LongTensor([1,2,3])\n",
        "embeddings(torch.LongTensor([1,2,3]))"
      ],
      "metadata": {
        "colab": {
          "base_uri": "https://localhost:8080/"
        },
        "id": "Nv4UgJrI1rDf",
        "outputId": "16d08326-b026-494b-d922-81d289aedf94"
      },
      "execution_count": 30,
      "outputs": [
        {
          "output_type": "execute_result",
          "data": {
            "text/plain": [
              "tensor([[ 0.6620,  1.0747,  0.5249, -0.5987, -1.2036, -0.9915, -1.3313, -0.2857,\n",
              "         -1.2303,  0.4614],\n",
              "        [ 0.5354, -1.0840,  0.2831, -0.4681,  0.7538, -0.3961, -0.8153, -0.9076,\n",
              "          0.0892,  0.0475],\n",
              "        [-0.0669,  0.0545, -1.0317, -0.2964,  0.0479,  1.4567, -0.1848, -1.3572,\n",
              "         -0.7292,  0.9147]], grad_fn=<EmbeddingBackward0>)"
            ]
          },
          "metadata": {},
          "execution_count": 30
        }
      ]
    },
    {
      "cell_type": "code",
      "source": [
        "input = \"the gravest crisis\""
      ],
      "metadata": {
        "id": "aX0JttDR1y7z"
      },
      "execution_count": 36,
      "outputs": []
    },
    {
      "cell_type": "code",
      "source": [
        "torch.LongTensor([1,2,3])"
      ],
      "metadata": {
        "colab": {
          "base_uri": "https://localhost:8080/"
        },
        "id": "6LCgfUaC2VZr",
        "outputId": "5874c9c5-d7fc-463d-fad0-4b27c7931ef3"
      },
      "execution_count": 37,
      "outputs": [
        {
          "output_type": "execute_result",
          "data": {
            "text/plain": [
              "tensor([1, 2, 3])"
            ]
          },
          "metadata": {},
          "execution_count": 37
        }
      ]
    },
    {
      "cell_type": "code",
      "source": [
        "input_tokens = input.split()"
      ],
      "metadata": {
        "id": "gnb5UTBI2YGp"
      },
      "execution_count": 38,
      "outputs": []
    },
    {
      "cell_type": "code",
      "source": [
        "token_idx = []\n",
        "for token in input_tokens:\n",
        " token_idx.append(word_to_ix[token])"
      ],
      "metadata": {
        "id": "YCWAkXx-2dWF"
      },
      "execution_count": 41,
      "outputs": []
    },
    {
      "cell_type": "code",
      "source": [
        "token_idx_tensor = torch.LongTensor([token_idx])"
      ],
      "metadata": {
        "id": "VGHw3m5f2eV8"
      },
      "execution_count": 43,
      "outputs": []
    },
    {
      "cell_type": "code",
      "source": [
        " word_representation = embeddings(token_idx_tensor)"
      ],
      "metadata": {
        "id": "LMt8bqNk21cb"
      },
      "execution_count": 46,
      "outputs": []
    },
    {
      "cell_type": "code",
      "source": [
        "concate_words = word_representation.view((1,-1))"
      ],
      "metadata": {
        "id": "swVUCpX12-mh"
      },
      "execution_count": 55,
      "outputs": []
    },
    {
      "cell_type": "code",
      "source": [
        "HIDDEN_DIM = 20"
      ],
      "metadata": {
        "id": "22PiV0km4WQe"
      },
      "execution_count": 52,
      "outputs": []
    },
    {
      "cell_type": "code",
      "source": [
        "hidden_lin = nn.Linear(EMBEDDING_DIM*N_gram, HIDDEN_DIM)"
      ],
      "metadata": {
        "id": "bF8qP7SZ3Zn0"
      },
      "execution_count": 54,
      "outputs": []
    },
    {
      "cell_type": "code",
      "source": [
        "hidden_vector = hidden_lin(concate_words)"
      ],
      "metadata": {
        "id": "XTq4z2dM4ZFk"
      },
      "execution_count": 57,
      "outputs": []
    },
    {
      "cell_type": "code",
      "source": [
        "classfier_lin = nn.Linear(HIDDEN_DIM, len(vocab))"
      ],
      "metadata": {
        "id": "w7YB-xkb5CM-"
      },
      "execution_count": 58,
      "outputs": []
    },
    {
      "cell_type": "code",
      "source": [
        "logits = classfier_lin(hidden_vector)"
      ],
      "metadata": {
        "id": "i0o8gwK244ms"
      },
      "execution_count": 61,
      "outputs": []
    },
    {
      "cell_type": "code",
      "source": [
        "logits"
      ],
      "metadata": {
        "colab": {
          "base_uri": "https://localhost:8080/"
        },
        "id": "VBDNw4ZO5ocE",
        "outputId": "80df01bd-65aa-436d-fe7b-6bf8d5aefd54"
      },
      "execution_count": 63,
      "outputs": [
        {
          "output_type": "execute_result",
          "data": {
            "text/plain": [
              "tensor([[ 0.2347, -0.4815,  0.0796, -0.9588,  0.2130,  0.1797,  0.8888, -0.6404,\n",
              "          0.9185, -0.4924,  0.3753,  0.2282, -0.2226,  0.7298, -0.1459, -0.2145,\n",
              "          0.4254,  0.0248, -0.4233,  0.2587, -0.2750,  0.1273,  0.0842,  0.2853,\n",
              "          0.0336, -0.3442,  0.1598, -0.1389,  0.3663, -0.0679,  0.0530,  0.1560,\n",
              "          0.5205, -0.4688, -0.0826,  0.5229,  0.4090,  0.3845, -0.2710, -0.0336,\n",
              "         -0.0840, -0.2265,  0.1279,  0.2438, -0.1930, -0.7533, -0.3574,  0.8211,\n",
              "         -0.0052, -0.0575, -0.0843,  0.3218,  0.0019, -0.2111,  1.0706, -0.2521,\n",
              "          0.3894,  0.1402, -0.0920, -0.0583,  0.3553,  0.0091,  0.1716, -0.3444,\n",
              "          0.1849,  0.4196,  1.0680, -0.1326,  0.0023,  0.5382, -0.4444, -0.2224,\n",
              "         -0.3214, -0.0569,  0.1236, -0.2466,  0.4822, -0.3968, -0.5434,  0.0483,\n",
              "         -1.0019, -0.1100,  0.5625,  0.5282,  0.1474,  0.8532, -0.3755, -0.2141,\n",
              "         -0.0144,  0.0524, -0.2533, -0.2169, -0.4267,  0.1138, -0.3644, -0.0229,\n",
              "          0.3397,  0.4723, -0.0523,  0.3658,  0.6768,  0.7639,  0.1691, -0.3615,\n",
              "         -0.3181, -0.1102,  0.2435, -0.0425,  0.2906,  0.5162,  0.5159, -0.0859,\n",
              "          0.1798,  0.2634,  0.1343, -0.7513,  0.0260,  0.4354, -0.1076, -0.5004,\n",
              "         -0.1105, -0.4416,  0.2447,  0.6728,  0.0321,  0.0619,  0.1357, -0.3011,\n",
              "          0.3665,  0.8844, -0.1576, -0.3150,  0.0748,  0.4293,  0.3855, -0.1078,\n",
              "          0.2621, -0.2988, -0.7779, -0.1515,  0.3851, -0.2240, -0.0544,  0.1507,\n",
              "         -0.3448, -0.0012, -0.3036, -0.1536,  0.0404,  0.8524, -0.3744, -0.7247,\n",
              "         -0.0187,  0.3169,  0.1245]], grad_fn=<AddmmBackward0>)"
            ]
          },
          "metadata": {},
          "execution_count": 63
        }
      ]
    },
    {
      "cell_type": "code",
      "source": [
        "pred_dist = torch.softmax(logits, dim=1)"
      ],
      "metadata": {
        "id": "KhbZnDZY5XK0"
      },
      "execution_count": 64,
      "outputs": []
    },
    {
      "cell_type": "code",
      "source": [
        "torch.argmax(pred_dist)"
      ],
      "metadata": {
        "colab": {
          "base_uri": "https://localhost:8080/"
        },
        "id": "OkrGFLQJ5lIi",
        "outputId": "5e2fd808-2b71-47ee-e651-9ae6ea359cae"
      },
      "execution_count": 65,
      "outputs": [
        {
          "output_type": "execute_result",
          "data": {
            "text/plain": [
              "tensor(54)"
            ]
          },
          "metadata": {},
          "execution_count": 65
        }
      ]
    },
    {
      "cell_type": "code",
      "source": [
        "word_to_ix"
      ],
      "metadata": {
        "id": "FSJ2wLuF5xhM"
      },
      "execution_count": null,
      "outputs": []
    }
  ]
}